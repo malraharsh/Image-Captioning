{
  "nbformat": 4,
  "nbformat_minor": 0,
  "metadata": {
    "colab": {
      "name": "Image-Captioning",
      "provenance": [],
      "collapsed_sections": [],
      "authorship_tag": "ABX9TyPB0aXrRg3xfkV2nVAmrC19",
      "include_colab_link": true
    },
    "kernelspec": {
      "name": "python3",
      "display_name": "Python 3"
    }
  },
  "cells": [
    {
      "cell_type": "markdown",
      "metadata": {
        "id": "view-in-github",
        "colab_type": "text"
      },
      "source": [
        "<a href=\"https://colab.research.google.com/github/malraharsh/Image-Captioning/blob/master/Image_Captioning.ipynb\" target=\"_parent\"><img src=\"https://colab.research.google.com/assets/colab-badge.svg\" alt=\"Open In Colab\"/></a>"
      ]
    },
    {
      "cell_type": "code",
      "metadata": {
        "id": "WCy5drHUDkrC",
        "colab_type": "code",
        "colab": {}
      },
      "source": [
        "import numpy as np\n",
        "from numpy import array\n",
        "import pandas as pd\n",
        "import matplotlib.pyplot as plt\n",
        "%matplotlib inline"
      ],
      "execution_count": 1,
      "outputs": []
    },
    {
      "cell_type": "code",
      "metadata": {
        "id": "YsJD2Ic4DmxR",
        "colab_type": "code",
        "colab": {}
      },
      "source": [
        "%%capture\n",
        "\n",
        "!wget https://github.com/jbrownlee/Datasets/releases/download/Flickr8k/Flickr8k_Dataset.zip\n",
        "!wget https://github.com/jbrownlee/Datasets/releases/download/Flickr8k/Flickr8k_text.zip\n",
        "\n",
        "!unzip Flickr8k_Dataset.zip\n",
        "\n",
        "!mkdir textFiles\n",
        "!unzip Flickr8k_text.zip -d /content/textFiles\n",
        "\n",
        "!rm -r sample_data\n",
        "!rm -r __MACOSX/"
      ],
      "execution_count": 2,
      "outputs": []
    },
    {
      "cell_type": "code",
      "metadata": {
        "id": "fnSJhaMDGBoq",
        "colab_type": "code",
        "colab": {}
      },
      "source": [
        "# import glob\n",
        "\n",
        "# for i in glob.glob('*.txt'):\n",
        "#     !rm $i"
      ],
      "execution_count": 3,
      "outputs": []
    },
    {
      "cell_type": "code",
      "metadata": {
        "id": "JbqmS00PJgxa",
        "colab_type": "code",
        "colab": {}
      },
      "source": [
        "def load_file(filename):\n",
        "    with open(filename, 'r') as file:\n",
        "        text = file.read()\n",
        "    return text"
      ],
      "execution_count": 4,
      "outputs": []
    },
    {
      "cell_type": "code",
      "metadata": {
        "id": "bwH8qoRVHIh3",
        "colab_type": "code",
        "colab": {}
      },
      "source": [
        "doc = load_file('/content/textFiles/Flickr8k.token.txt')"
      ],
      "execution_count": 5,
      "outputs": []
    },
    {
      "cell_type": "code",
      "metadata": {
        "id": "ymwVo-E6IC8B",
        "colab_type": "code",
        "colab": {
          "base_uri": "https://localhost:8080/",
          "height": 68
        },
        "outputId": "2fc6930a-b3cd-42b1-a806-e85d50fec962"
      },
      "source": [
        "print(doc[:200])"
      ],
      "execution_count": 6,
      "outputs": [
        {
          "output_type": "stream",
          "text": [
            "1000268201_693b08cb0e.jpg#0\tA child in a pink dress is climbing up a set of stairs in an entry way .\n",
            "1000268201_693b08cb0e.jpg#1\tA girl going into a wooden building .\n",
            "1000268201_693b08cb0e.jpg#2\tA lit\n"
          ],
          "name": "stdout"
        }
      ]
    },
    {
      "cell_type": "code",
      "metadata": {
        "id": "Fh3dw0EOJ6Aa",
        "colab_type": "code",
        "colab": {}
      },
      "source": [
        "def load_descriptions(file):\n",
        "    info = {}\n",
        "\n",
        "    for line in file.split('\\n'):\n",
        "        if len(line) <= 1:\n",
        "            continue\n",
        "        \n",
        "        img_id, img_descr = line.split('\\t')\n",
        "\n",
        "        img_id = img_id.split('.')[0]\n",
        "\n",
        "        if img_id not in info:\n",
        "            info[img_id] = list()\n",
        "        info[img_id].append(img_descr)\n",
        "\n",
        "    return info"
      ],
      "execution_count": 7,
      "outputs": []
    },
    {
      "cell_type": "code",
      "metadata": {
        "id": "ZtHp5xE5LPQA",
        "colab_type": "code",
        "colab": {
          "base_uri": "https://localhost:8080/",
          "height": 323
        },
        "outputId": "eea23134-adba-4876-98bf-d1219eb48a3c"
      },
      "source": [
        "descriptions = load_descriptions(doc)\n",
        "list(descriptions.items())[:3]"
      ],
      "execution_count": 8,
      "outputs": [
        {
          "output_type": "execute_result",
          "data": {
            "text/plain": [
              "[('1000268201_693b08cb0e',\n",
              "  ['A child in a pink dress is climbing up a set of stairs in an entry way .',\n",
              "   'A girl going into a wooden building .',\n",
              "   'A little girl climbing into a wooden playhouse .',\n",
              "   'A little girl climbing the stairs to her playhouse .',\n",
              "   'A little girl in a pink dress going into a wooden cabin .']),\n",
              " ('1001773457_577c3a7d70',\n",
              "  ['A black dog and a spotted dog are fighting',\n",
              "   'A black dog and a tri-colored dog playing with each other on the road .',\n",
              "   'A black dog and a white dog with brown spots are staring at each other in the street .',\n",
              "   'Two dogs of different breeds looking at each other on the road .',\n",
              "   'Two dogs on pavement moving toward each other .']),\n",
              " ('1002674143_1b742ab4b8',\n",
              "  ['A little girl covered in paint sits in front of a painted rainbow with her hands in a bowl .',\n",
              "   'A little girl is sitting in front of a large painted rainbow .',\n",
              "   'A small girl in the grass plays with fingerpaints in front of a white canvas with a rainbow on it .',\n",
              "   'There is a girl with pigtails sitting in front of a rainbow painting .',\n",
              "   'Young girl with pigtails painting outside in the grass .'])]"
            ]
          },
          "metadata": {
            "tags": []
          },
          "execution_count": 8
        }
      ]
    },
    {
      "cell_type": "code",
      "metadata": {
        "id": "5fLyX_SbL_vO",
        "colab_type": "code",
        "colab": {}
      },
      "source": [
        "# n = 3\n",
        "# i = 0\n",
        "\n",
        "# fix, ax = plt.subplots(n, 1, figsize=(25, 25))\n",
        "# # ax.flatten()\n",
        "\n",
        "# for (img_filename, img_descr) in list(descriptions.items())[:n]:\n",
        "#     img_file = plt.imread('/content/Flicker8k_Dataset/' + img_filename + '.jpg')\n",
        "#     ax[i].imshow(img_file)\n",
        "#     print(' /n'.join(img_descr))\n",
        "#     i += 1"
      ],
      "execution_count": 9,
      "outputs": []
    },
    {
      "cell_type": "code",
      "metadata": {
        "id": "PQVgHNAUYpVt",
        "colab_type": "code",
        "colab": {}
      },
      "source": [
        "# import nltk\n",
        "# from nltk.corpus import stopwords\n",
        "# nltk.download('stopwords')\n",
        "# print(stopwords.words('english'))"
      ],
      "execution_count": 10,
      "outputs": []
    },
    {
      "cell_type": "code",
      "metadata": {
        "id": "KP5IqPGhO-ld",
        "colab_type": "code",
        "colab": {}
      },
      "source": [
        "import string\n",
        "\n",
        "def clean_sentence(sent):\n",
        "    words = sent.split()\n",
        "    words = map(str.lower, words)\n",
        "    words = [w for w in words if len(w) > 1]\n",
        "    words = [w for w in words if w.isalpha()] \n",
        "    return ' '.join(words)\n",
        "\n",
        "def clean_descriptions(file):\n",
        "    table = str.maketrans('', '', string.punctuation) #intab, outtab, toremove string, outtab replace intab\n",
        "\n",
        "    for key, desc_list in descriptions.items():\n",
        "        for idx, desc in enumerate(desc_list):\n",
        "            desc_list[idx] = clean_sentence(desc)\n",
        "\n",
        "clean_descriptions(descriptions)"
      ],
      "execution_count": 11,
      "outputs": []
    },
    {
      "cell_type": "code",
      "metadata": {
        "id": "_Qd0dm-lfalG",
        "colab_type": "code",
        "colab": {
          "base_uri": "https://localhost:8080/",
          "height": 102
        },
        "outputId": "b1c4d0f9-9359-47bb-eaa8-942d425a2d2d"
      },
      "source": [
        "descriptions['1001773457_577c3a7d70']"
      ],
      "execution_count": 12,
      "outputs": [
        {
          "output_type": "execute_result",
          "data": {
            "text/plain": [
              "['black dog and spotted dog are fighting',\n",
              " 'black dog and dog playing with each other on the road',\n",
              " 'black dog and white dog with brown spots are staring at each other in the street',\n",
              " 'two dogs of different breeds looking at each other on the road',\n",
              " 'two dogs on pavement moving toward each other']"
            ]
          },
          "metadata": {
            "tags": []
          },
          "execution_count": 12
        }
      ]
    },
    {
      "cell_type": "code",
      "metadata": {
        "id": "8vY37Wv4hzps",
        "colab_type": "code",
        "colab": {
          "base_uri": "https://localhost:8080/",
          "height": 119
        },
        "outputId": "7561771c-c038-4ffa-d61a-62810886c875"
      },
      "source": [
        "list(descriptions.items())[:1]"
      ],
      "execution_count": 13,
      "outputs": [
        {
          "output_type": "execute_result",
          "data": {
            "text/plain": [
              "[('1000268201_693b08cb0e',\n",
              "  ['child in pink dress is climbing up set of stairs in an entry way',\n",
              "   'girl going into wooden building',\n",
              "   'little girl climbing into wooden playhouse',\n",
              "   'little girl climbing the stairs to her playhouse',\n",
              "   'little girl in pink dress going into wooden cabin'])]"
            ]
          },
          "metadata": {
            "tags": []
          },
          "execution_count": 13
        }
      ]
    },
    {
      "cell_type": "code",
      "metadata": {
        "id": "EsNqyE49iUys",
        "colab_type": "code",
        "colab": {
          "base_uri": "https://localhost:8080/",
          "height": 34
        },
        "outputId": "c8dc49d2-625d-4165-be21-5ea877d6e1d6"
      },
      "source": [
        ""
      ],
      "execution_count": 14,
      "outputs": [
        {
          "output_type": "execute_result",
          "data": {
            "text/plain": [
              "['scales', 'dc', 'joggers', 'paneled', 'trace']"
            ]
          },
          "metadata": {
            "tags": []
          },
          "execution_count": 14
        }
      ]
    },
    {
      "cell_type": "code",
      "metadata": {
        "id": "WTS6bDpAjEij",
        "colab_type": "code",
        "colab": {}
      },
      "source": [
        "import json\n",
        "\n",
        "json.dump(descriptions, open('descriptions.txt', 'w'))\n",
        "# json.load(descriptions, open('descriptions.txt', 'r'))"
      ],
      "execution_count": 15,
      "outputs": []
    },
    {
      "cell_type": "code",
      "metadata": {
        "id": "DG7D6tj9jGp6",
        "colab_type": "code",
        "colab": {}
      },
      "source": [
        "path_img_data = '/content/Flicker8k_Dataset/'\n",
        "path_text = '/content/textFiles/'"
      ],
      "execution_count": 16,
      "outputs": []
    },
    {
      "cell_type": "code",
      "metadata": {
        "id": "xH1AYLlCyEPz",
        "colab_type": "code",
        "colab": {}
      },
      "source": [
        "train_images_path = load_file('/content/textFiles/Flickr_8k.trainImages.txt')\n",
        "test_images_path = load_file('/content/textFiles/Flickr_8k.testImages.txt')"
      ],
      "execution_count": 18,
      "outputs": []
    },
    {
      "cell_type": "code",
      "metadata": {
        "id": "lOzwqaIQ3y6e",
        "colab_type": "code",
        "colab": {
          "base_uri": "https://localhost:8080/",
          "height": 34
        },
        "outputId": "91a6ab5d-7a72-4a01-a16a-653a0f99af96"
      },
      "source": [
        "train_images_path[:100]"
      ],
      "execution_count": 33,
      "outputs": [
        {
          "output_type": "execute_result",
          "data": {
            "text/plain": [
              "'2513260012_03d33305cf.jpg\\n2903617548_d3e38d7f88.jpg\\n3338291921_fe7ae0c8f8.jpg\\n488416045_1c6d903fe0.j'"
            ]
          },
          "metadata": {
            "tags": []
          },
          "execution_count": 33
        }
      ]
    },
    {
      "cell_type": "code",
      "metadata": {
        "id": "AuiFPLALz6pA",
        "colab_type": "code",
        "colab": {}
      },
      "source": [
        "def create_images_list(imgnames, source=path_img_data):\n",
        "    images = list()\n",
        "\n",
        "    for img in imgnames.split('\\n'):\n",
        "        images.append(img)\n",
        "\n",
        "    return images\n",
        "\n",
        "train_images = create_images_list(train_images_path)\n",
        "test_images = create_images_list(test_images_path)"
      ],
      "execution_count": 34,
      "outputs": []
    },
    {
      "cell_type": "code",
      "metadata": {
        "id": "wFpCt1ds36Qr",
        "colab_type": "code",
        "colab": {}
      },
      "source": [
        ""
      ],
      "execution_count": null,
      "outputs": []
    },
    {
      "cell_type": "code",
      "metadata": {
        "id": "LJOlabd11FHM",
        "colab_type": "code",
        "colab": {}
      },
      "source": [
        "from PIL import Image\n",
        "\n",
        "img_shape = (299, 299)\n",
        "\n",
        "def preprocess(img_path):\n",
        "    img = image.load_img(img_path, target_size=img_shape)\n",
        "    img = image.img_to_array(img)\n",
        "    img = np.expand_dims(img, axis=0)\n",
        "    img = preprocess_input(img)\n",
        "    return img"
      ],
      "execution_count": 97,
      "outputs": []
    },
    {
      "cell_type": "code",
      "metadata": {
        "id": "GZTkaH7O2kw7",
        "colab_type": "code",
        "colab": {}
      },
      "source": [
        "import glob\n",
        "import pickle \n",
        "from time import time\n",
        "from keras.preprocessing import sequence\n",
        "from keras.models import Sequential\n",
        "from keras.layers import LSTM, Embedding, TimeDistributed, Dense, RepeatVector,\\\n",
        "                         Activation, Flatten, Reshape, concatenate, Dropout, BatchNormalization\n",
        "from keras.optimizers import Adam, RMSprop\n",
        "from keras.layers.wrappers import Bidirectional\n",
        "from keras.layers.merge import add\n",
        "from keras.applications.inception_v3 import InceptionV3\n",
        "from keras.preprocessing import image\n",
        "from keras.models import Model\n",
        "from keras import Input, layers\n",
        "from keras import optimizers\n",
        "from keras.applications.inception_v3 import preprocess_input\n",
        "from keras.preprocessing.text import Tokenizer\n",
        "from keras.preprocessing.sequence import pad_sequences\n",
        "from keras.utils import to_categorical"
      ],
      "execution_count": 46,
      "outputs": []
    },
    {
      "cell_type": "code",
      "metadata": {
        "id": "He58ZLEn-t-h",
        "colab_type": "code",
        "colab": {}
      },
      "source": [
        "base_model = InceptionV3(weights='imagenet')"
      ],
      "execution_count": 24,
      "outputs": []
    },
    {
      "cell_type": "code",
      "metadata": {
        "id": "GCBysNCD0SJA",
        "colab_type": "code",
        "colab": {}
      },
      "source": [
        "#!!!!!\n",
        "n_sample = 100\n",
        "train_images = train_images[:n_sample]\n",
        "test_images = test_images[:n_sample]"
      ],
      "execution_count": 35,
      "outputs": []
    },
    {
      "cell_type": "code",
      "metadata": {
        "id": "F6MvWL-41HQR",
        "colab_type": "code",
        "colab": {}
      },
      "source": [
        "model = Model(base_model.input, base_model.layers[-2].output)"
      ],
      "execution_count": 27,
      "outputs": []
    },
    {
      "cell_type": "code",
      "metadata": {
        "id": "BoxW1r7h2Gmz",
        "colab_type": "code",
        "colab": {}
      },
      "source": [
        "def encode(img):\n",
        "    try:\n",
        "        img = preprocess(path_img_data + img)\n",
        "        encoded_img = model.predict(img)\n",
        "        encoded_img = np.squeeze(encoded_img)\n",
        "        return encoded_img\n",
        "    except:\n",
        "        pass\n",
        "\n",
        "encoded_train_images = list(map(encode, train_images))\n",
        "encoded_test_images = list(map(encode, test_images))"
      ],
      "execution_count": 108,
      "outputs": []
    },
    {
      "cell_type": "code",
      "metadata": {
        "id": "zv_58KKKH8GB",
        "colab_type": "code",
        "colab": {
          "base_uri": "https://localhost:8080/",
          "height": 51
        },
        "outputId": "d8b7ce2f-7e5e-4c83-bcee-2866e7128007"
      },
      "source": [
        "encoded_train_images[0]"
      ],
      "execution_count": 112,
      "outputs": [
        {
          "output_type": "execute_result",
          "data": {
            "text/plain": [
              "array([0.084479  , 0.0946759 , 0.09230016, ..., 0.07690614, 1.4561853 ,\n",
              "       0.45119086], dtype=float32)"
            ]
          },
          "metadata": {
            "tags": []
          },
          "execution_count": 112
        }
      ]
    },
    {
      "cell_type": "code",
      "metadata": {
        "id": "_PhM4Dz36ki6",
        "colab_type": "code",
        "colab": {}
      },
      "source": [
        "dir_path = 'Pickle'\n",
        "if not os.path.isdir(dir_path):\n",
        "    os.mkdir(dir_path)"
      ],
      "execution_count": 44,
      "outputs": []
    },
    {
      "cell_type": "code",
      "metadata": {
        "id": "5FSi_vqI2fCp",
        "colab_type": "code",
        "colab": {}
      },
      "source": [
        "def save_images_pkl(data, path):\n",
        "    path = 'Pickle/' + path\n",
        "    with open(path, 'wb') as file:\n",
        "        pickle.dump(data, file)\n",
        "\n",
        "def load_images_pkl(path): # not working\n",
        "    with open(path, 'rb') as f:\n",
        "        data = pickle.load(f)\n",
        "    return data\n",
        "\n",
        "save_images_pkl(encoded_train_images, 'encoded_train_images.pkl')\n",
        "save_images_pkl(encoded_test_images, 'encoded_test_images.pkl')"
      ],
      "execution_count": 113,
      "outputs": []
    },
    {
      "cell_type": "code",
      "metadata": {
        "id": "ugE1FIxAC9Vx",
        "colab_type": "code",
        "colab": {}
      },
      "source": [
        "a = load_images_pkl('/content/Pickle/encoded_test_images.pkl')"
      ],
      "execution_count": 114,
      "outputs": []
    },
    {
      "cell_type": "code",
      "metadata": {
        "id": "OPlEhG4GDCV_",
        "colab_type": "code",
        "colab": {
          "base_uri": "https://localhost:8080/",
          "height": 51
        },
        "outputId": "68ae59da-547d-4648-d476-f50edad688a6"
      },
      "source": [
        "list(a)[3]"
      ],
      "execution_count": 115,
      "outputs": [
        {
          "output_type": "execute_result",
          "data": {
            "text/plain": [
              "array([0.50559866, 0.11145644, 0.61091816, ..., 0.05482279, 0.2874634 ,\n",
              "       0.13505225], dtype=float32)"
            ]
          },
          "metadata": {
            "tags": []
          },
          "execution_count": 115
        }
      ]
    },
    {
      "cell_type": "code",
      "metadata": {
        "id": "wEzzJTbk9m1V",
        "colab_type": "code",
        "colab": {
          "base_uri": "https://localhost:8080/",
          "height": 34
        },
        "outputId": "a10f1bb2-1e40-40b5-b848-e5594fbc244b"
      },
      "source": [
        "captions = np.reshape(list(descriptions.values()), -1) # 2D descr in flattened list of captions\n",
        "len(captions)"
      ],
      "execution_count": 116,
      "outputs": [
        {
          "output_type": "execute_result",
          "data": {
            "text/plain": [
              "40460"
            ]
          },
          "metadata": {
            "tags": []
          },
          "execution_count": 116
        }
      ]
    },
    {
      "cell_type": "code",
      "metadata": {
        "id": "d68Jo6nq_T0s",
        "colab_type": "code",
        "colab": {}
      },
      "source": [
        "def show3(var):\n",
        "    return list(var)[:3]"
      ],
      "execution_count": 80,
      "outputs": []
    },
    {
      "cell_type": "code",
      "metadata": {
        "id": "74hFWzWhLk2z",
        "colab_type": "code",
        "colab": {}
      },
      "source": [
        "words_count = {}\n",
        "word_count_thresh = 10\n",
        "\n",
        "for line in captions:\n",
        "    for word in line.split(' '):\n",
        "        words_count[word] = words_count.get(word, 0) + 1 # 0 if no word\n",
        "\n",
        "vocab = [w for w, count in words_count.items() if count >= word_count_thresh]        "
      ],
      "execution_count": 121,
      "outputs": []
    },
    {
      "cell_type": "code",
      "metadata": {
        "id": "55XNsmtwNka0",
        "colab_type": "code",
        "colab": {
          "base_uri": "https://localhost:8080/",
          "height": 34
        },
        "outputId": "4d38faaa-139b-4650-fce2-8eaf8aff48bd"
      },
      "source": [
        "print(\"Processed words from {} -> {}\".format(len(words_count), len(vocab)))"
      ],
      "execution_count": 125,
      "outputs": [
        {
          "output_type": "stream",
          "text": [
            "Processed words from 8358 -> 1937\n"
          ],
          "name": "stdout"
        }
      ]
    },
    {
      "cell_type": "code",
      "metadata": {
        "id": "aig1CI3jNwfB",
        "colab_type": "code",
        "colab": {}
      },
      "source": [
        "idx2word = {}\n",
        "word2idx = {}\n",
        "\n",
        "for idx, w in enumerate(vocab, 1):\n",
        "    word2idx[w] = idx\n",
        "    idx2word[idx] = w"
      ],
      "execution_count": 126,
      "outputs": []
    },
    {
      "cell_type": "code",
      "metadata": {
        "id": "eyHKer7YU-yl",
        "colab_type": "code",
        "colab": {
          "base_uri": "https://localhost:8080/",
          "height": 34
        },
        "outputId": "ec4936a5-4fed-4a93-daaf-4d9a5b9b0e21"
      },
      "source": [
        "size_vocab = len(vocab) + 1 # for appended 0\n",
        "size_vocab"
      ],
      "execution_count": 128,
      "outputs": [
        {
          "output_type": "execute_result",
          "data": {
            "text/plain": [
              "1938"
            ]
          },
          "metadata": {
            "tags": []
          },
          "execution_count": 128
        }
      ]
    },
    {
      "cell_type": "code",
      "metadata": {
        "id": "9eHKdX_KVjsU",
        "colab_type": "code",
        "colab": {}
      },
      "source": [
        "# def create_vocab(descr): # no use\n",
        "#     vocab = set()\n",
        "\n",
        "#     for d_list in descr.values():\n",
        "#         [vocab.update(d.split()) for d in d_list]\n",
        "\n",
        "#     return vocab\n",
        "\n",
        "# vocabulary = create_vocab(descriptions)\n",
        "# list(vocabulary)[:5]"
      ],
      "execution_count": 129,
      "outputs": []
    },
    {
      "cell_type": "code",
      "metadata": {
        "id": "KsX47YRgWVmp",
        "colab_type": "code",
        "colab": {
          "base_uri": "https://localhost:8080/",
          "height": 163
        },
        "outputId": "a5868a2d-0fc2-4a17-b1f5-3a0bb43ab447"
      },
      "source": [
        "max_length_sent = max(map([split('/'), len], captions))"
      ],
      "execution_count": 130,
      "outputs": [
        {
          "output_type": "error",
          "ename": "NameError",
          "evalue": "ignored",
          "traceback": [
            "\u001b[0;31m---------------------------------------------------------------------------\u001b[0m",
            "\u001b[0;31mNameError\u001b[0m                                 Traceback (most recent call last)",
            "\u001b[0;32m<ipython-input-130-4d28e6be82ed>\u001b[0m in \u001b[0;36m<module>\u001b[0;34m()\u001b[0m\n\u001b[0;32m----> 1\u001b[0;31m \u001b[0mmax_length_sent\u001b[0m \u001b[0;34m=\u001b[0m \u001b[0mmax\u001b[0m\u001b[0;34m(\u001b[0m\u001b[0mmap\u001b[0m\u001b[0;34m(\u001b[0m\u001b[0;34m[\u001b[0m\u001b[0msplit\u001b[0m\u001b[0;34m(\u001b[0m\u001b[0;34m'/'\u001b[0m\u001b[0;34m)\u001b[0m\u001b[0;34m,\u001b[0m \u001b[0mlen\u001b[0m\u001b[0;34m]\u001b[0m\u001b[0;34m,\u001b[0m \u001b[0mcaptions\u001b[0m\u001b[0;34m)\u001b[0m\u001b[0;34m)\u001b[0m\u001b[0;34m\u001b[0m\u001b[0;34m\u001b[0m\u001b[0m\n\u001b[0m",
            "\u001b[0;31mNameError\u001b[0m: name 'split' is not defined"
          ]
        }
      ]
    },
    {
      "cell_type": "code",
      "metadata": {
        "id": "miRbnh2oWuiN",
        "colab_type": "code",
        "colab": {}
      },
      "source": [
        ""
      ],
      "execution_count": null,
      "outputs": []
    }
  ]
}