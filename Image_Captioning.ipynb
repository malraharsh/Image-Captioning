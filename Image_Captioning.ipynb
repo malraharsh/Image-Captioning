{
  "nbformat": 4,
  "nbformat_minor": 0,
  "metadata": {
    "colab": {
      "name": "Image-Captioning",
      "provenance": [],
      "collapsed_sections": [],
      "authorship_tag": "ABX9TyMneJGmdRxeZK3BqBA/v7HJ",
      "include_colab_link": true
    },
    "kernelspec": {
      "name": "python3",
      "display_name": "Python 3"
    },
    "accelerator": "GPU"
  },
  "cells": [
    {
      "cell_type": "markdown",
      "metadata": {
        "id": "view-in-github",
        "colab_type": "text"
      },
      "source": [
        "<a href=\"https://colab.research.google.com/github/malraharsh/Image-Captioning/blob/master/Image_Captioning.ipynb\" target=\"_parent\"><img src=\"https://colab.research.google.com/assets/colab-badge.svg\" alt=\"Open In Colab\"/></a>"
      ]
    },
    {
      "cell_type": "code",
      "metadata": {
        "id": "WfAI-mIcLhQa",
        "colab_type": "code",
        "colab": {
          "base_uri": "https://localhost:8080/",
          "height": 54
        },
        "outputId": "c990eb63-5762-466c-d7db-3a6db9d4aba0"
      },
      "source": [
        "'''\n",
        "https://towardsdatascience.com/image-captioning-with-keras-teaching-computers-to-describe-pictures-c88a46a311b8\n",
        "https://github.com/hlamba28/Automatic-Image-Captioning/blob/master/Automatic%20Image%20Captioning.ipynb\n",
        "\n",
        "\n",
        "'''"
      ],
      "execution_count": 1,
      "outputs": [
        {
          "output_type": "execute_result",
          "data": {
            "text/plain": [
              "'\\nhttps://towardsdatascience.com/image-captioning-with-keras-teaching-computers-to-describe-pictures-c88a46a311b8\\nhttps://github.com/hlamba28/Automatic-Image-Captioning/blob/master/Automatic%20Image%20Captioning.ipynb\\n\\n\\n'"
            ]
          },
          "metadata": {
            "tags": []
          },
          "execution_count": 1
        }
      ]
    },
    {
      "cell_type": "code",
      "metadata": {
        "id": "WCy5drHUDkrC",
        "colab_type": "code",
        "colab": {}
      },
      "source": [
        "import numpy as np\n",
        "# from numpy import array\n",
        "import pandas as pd\n",
        "import matplotlib.pyplot as plt\n",
        "%matplotlib inline"
      ],
      "execution_count": 2,
      "outputs": []
    },
    {
      "cell_type": "code",
      "metadata": {
        "id": "YsJD2Ic4DmxR",
        "colab_type": "code",
        "colab": {}
      },
      "source": [
        "%%capture\n",
        "\n",
        "!wget https://github.com/jbrownlee/Datasets/releases/download/Flickr8k/Flickr8k_Dataset.zip\n",
        "!wget https://github.com/jbrownlee/Datasets/releases/download/Flickr8k/Flickr8k_text.zip\n",
        "\n",
        "!unzip Flickr8k_Dataset.zip\n",
        "\n",
        "!mkdir textFiles\n",
        "!unzip Flickr8k_text.zip -d /content/textFiles\n",
        "\n",
        "!rm -r sample_data\n",
        "!rm -r __MACOSX/"
      ],
      "execution_count": null,
      "outputs": []
    },
    {
      "cell_type": "code",
      "metadata": {
        "id": "fnSJhaMDGBoq",
        "colab_type": "code",
        "colab": {}
      },
      "source": [
        "# import glob\n",
        "\n",
        "# for i in glob.glob('*.txt'):\n",
        "#     !rm $i"
      ],
      "execution_count": null,
      "outputs": []
    },
    {
      "cell_type": "code",
      "metadata": {
        "id": "JbqmS00PJgxa",
        "colab_type": "code",
        "colab": {}
      },
      "source": [
        "def load_file(filename):\n",
        "    with open(filename, 'r') as file:\n",
        "        text = file.read()\n",
        "    return text"
      ],
      "execution_count": null,
      "outputs": []
    },
    {
      "cell_type": "code",
      "metadata": {
        "id": "bwH8qoRVHIh3",
        "colab_type": "code",
        "colab": {}
      },
      "source": [
        "doc = load_file('/content/textFiles/Flickr8k.token.txt')"
      ],
      "execution_count": null,
      "outputs": []
    },
    {
      "cell_type": "code",
      "metadata": {
        "id": "ymwVo-E6IC8B",
        "colab_type": "code",
        "colab": {}
      },
      "source": [
        "print(doc[:200])"
      ],
      "execution_count": null,
      "outputs": []
    },
    {
      "cell_type": "code",
      "metadata": {
        "id": "rd3MyEEXbTNm",
        "colab_type": "code",
        "colab": {}
      },
      "source": [
        "import os"
      ],
      "execution_count": null,
      "outputs": []
    },
    {
      "cell_type": "code",
      "metadata": {
        "colab_type": "code",
        "id": "ejt8VsDLbURA",
        "colab": {}
      },
      "source": [
        "def load_descriptions(file):\n",
        "    info = {}\n",
        "\n",
        "    for line in file.split('\\n'):\n",
        "        if len(line) <= 1:\n",
        "            continue\n",
        "        \n",
        "        img_id, img_descr = line.split('\\t')\n",
        "        \n",
        "        if not os.path.isfile(path_img_data + img_id[:-2]): #removes images not present\n",
        "            continue\n",
        "        \n",
        "        img_id = img_id.split('.')[0]\n",
        "\n",
        "        if img_id not in info:\n",
        "            info[img_id] = list()\n",
        "        info[img_id].append(img_descr)\n",
        "\n",
        "    return info"
      ],
      "execution_count": null,
      "outputs": []
    },
    {
      "cell_type": "code",
      "metadata": {
        "id": "ZtHp5xE5LPQA",
        "colab_type": "code",
        "colab": {}
      },
      "source": [
        "descriptions = load_descriptions(doc)\n",
        "list(descriptions.items())[:3]"
      ],
      "execution_count": null,
      "outputs": []
    },
    {
      "cell_type": "code",
      "metadata": {
        "id": "5fLyX_SbL_vO",
        "colab_type": "code",
        "colab": {}
      },
      "source": [
        "# n = 3\n",
        "# i = 0\n",
        "\n",
        "# fix, ax = plt.subplots(n, 1, figsize=(25, 25))\n",
        "# # ax.flatten()\n",
        "\n",
        "# for (img_filename, img_descr) in list(descriptions.items())[:n]:\n",
        "#     img_file = plt.imread('/content/Flicker8k_Dataset/' + img_filename + '.jpg')\n",
        "#     ax[i].imshow(img_file)\n",
        "#     print(' /n'.join(img_descr))\n",
        "#     i += 1"
      ],
      "execution_count": null,
      "outputs": []
    },
    {
      "cell_type": "code",
      "metadata": {
        "id": "PQVgHNAUYpVt",
        "colab_type": "code",
        "colab": {}
      },
      "source": [
        "# import nltk\n",
        "# from nltk.corpus import stopwords\n",
        "# nltk.download('stopwords')\n",
        "# print(stopwords.words('english'))"
      ],
      "execution_count": null,
      "outputs": []
    },
    {
      "cell_type": "code",
      "metadata": {
        "id": "KP5IqPGhO-ld",
        "colab_type": "code",
        "colab": {}
      },
      "source": [
        "import string\n",
        "\n",
        "def clean_sentence(sent):\n",
        "    words = sent.split()\n",
        "    words = map(str.lower, words)\n",
        "    words = [w for w in words if len(w) > 1]\n",
        "    words = [w for w in words if w.isalpha()] \n",
        "    words = 'startseq' + ' '.join(words) + ' endseq'  \n",
        "    return words\n",
        "\n",
        "def clean_descriptions(file):\n",
        "    table = str.maketrans('', '', string.punctuation) #intab, outtab, toremove string, outtab replace intab\n",
        "\n",
        "    for key, desc_list in descriptions.items():\n",
        "        for idx, desc in enumerate(desc_list):\n",
        "            desc_list[idx] = clean_sentence(desc)\n",
        "\n",
        "clean_descriptions(descriptions)"
      ],
      "execution_count": null,
      "outputs": []
    },
    {
      "cell_type": "code",
      "metadata": {
        "id": "_Qd0dm-lfalG",
        "colab_type": "code",
        "colab": {}
      },
      "source": [
        "descriptions['1001773457_577c3a7d70']"
      ],
      "execution_count": null,
      "outputs": []
    },
    {
      "cell_type": "code",
      "metadata": {
        "id": "8vY37Wv4hzps",
        "colab_type": "code",
        "colab": {}
      },
      "source": [
        "list(descriptions.items())[:1]"
      ],
      "execution_count": null,
      "outputs": []
    },
    {
      "cell_type": "code",
      "metadata": {
        "id": "EsNqyE49iUys",
        "colab_type": "code",
        "colab": {}
      },
      "source": [
        ""
      ],
      "execution_count": null,
      "outputs": []
    },
    {
      "cell_type": "code",
      "metadata": {
        "id": "WTS6bDpAjEij",
        "colab_type": "code",
        "colab": {}
      },
      "source": [
        "import json\n",
        "\n",
        "json.dump(descriptions, open('descriptions.txt', 'w'))\n",
        "# json.load(descriptions, open('descriptions.txt', 'r'))"
      ],
      "execution_count": null,
      "outputs": []
    },
    {
      "cell_type": "code",
      "metadata": {
        "id": "DG7D6tj9jGp6",
        "colab_type": "code",
        "colab": {}
      },
      "source": [
        "path_img_data = '/content/Flicker8k_Dataset/'\n",
        "path_text = '/content/textFiles/'"
      ],
      "execution_count": null,
      "outputs": []
    },
    {
      "cell_type": "code",
      "metadata": {
        "id": "xH1AYLlCyEPz",
        "colab_type": "code",
        "colab": {}
      },
      "source": [
        "train_images_path = load_file('/content/textFiles/Flickr_8k.trainImages.txt')\n",
        "test_images_path = load_file('/content/textFiles/Flickr_8k.testImages.txt')"
      ],
      "execution_count": null,
      "outputs": []
    },
    {
      "cell_type": "code",
      "metadata": {
        "id": "lOzwqaIQ3y6e",
        "colab_type": "code",
        "colab": {}
      },
      "source": [
        "train_images_path[:100]"
      ],
      "execution_count": null,
      "outputs": []
    },
    {
      "cell_type": "code",
      "metadata": {
        "id": "AuiFPLALz6pA",
        "colab_type": "code",
        "colab": {}
      },
      "source": [
        "def create_images_list(imgnames, source=path_img_data):\n",
        "    images = list()\n",
        "\n",
        "    for img in imgnames.split('\\n'):\n",
        "        images.append(img)\n",
        "\n",
        "    return images\n",
        "\n",
        "train_images = create_images_list(train_images_path)\n",
        "test_images = create_images_list(test_images_path)"
      ],
      "execution_count": null,
      "outputs": []
    },
    {
      "cell_type": "code",
      "metadata": {
        "id": "LJOlabd11FHM",
        "colab_type": "code",
        "colab": {}
      },
      "source": [
        "from PIL import Image\n",
        "\n",
        "img_shape = (299, 299)\n",
        "\n",
        "def preprocess(img_path):\n",
        "    img = image.load_img(img_path, target_size=img_shape)\n",
        "    img = image.img_to_array(img)\n",
        "    img = np.expand_dims(img, axis=0)\n",
        "    img = preprocess_input(img)\n",
        "    return img"
      ],
      "execution_count": null,
      "outputs": []
    },
    {
      "cell_type": "code",
      "metadata": {
        "id": "GZTkaH7O2kw7",
        "colab_type": "code",
        "colab": {}
      },
      "source": [
        "import glob\n",
        "import pickle \n",
        "from time import time\n",
        "from keras.preprocessing import sequence\n",
        "from keras.models import Sequential\n",
        "from keras.layers import LSTM, Embedding, TimeDistributed, Dense, RepeatVector,\\\n",
        "                         Activation, Flatten, Reshape, concatenate, Dropout, BatchNormalization\n",
        "from keras.optimizers import Adam, RMSprop\n",
        "from keras.layers.wrappers import Bidirectional\n",
        "from keras.layers.merge import add\n",
        "from keras.applications.inception_v3 import InceptionV3\n",
        "from keras.preprocessing import image\n",
        "from keras.models import Model\n",
        "from keras import Input, layers\n",
        "from keras import optimizers\n",
        "from keras.applications.inception_v3 import preprocess_input\n",
        "from keras.preprocessing.text import Tokenizer\n",
        "from keras.preprocessing.sequence import pad_sequences\n",
        "from keras.utils import to_categorical"
      ],
      "execution_count": null,
      "outputs": []
    },
    {
      "cell_type": "code",
      "metadata": {
        "id": "He58ZLEn-t-h",
        "colab_type": "code",
        "colab": {}
      },
      "source": [
        "base_model = InceptionV3(weights='imagenet')"
      ],
      "execution_count": null,
      "outputs": []
    },
    {
      "cell_type": "code",
      "metadata": {
        "id": "GCBysNCD0SJA",
        "colab_type": "code",
        "colab": {}
      },
      "source": [
        "# #!!!!!\n",
        "# n_sample = 100\n",
        "# train_images = train_images[:n_sample]\n",
        "# test_images = test_images[:n_sample]"
      ],
      "execution_count": null,
      "outputs": []
    },
    {
      "cell_type": "code",
      "metadata": {
        "id": "_vl99QbSNp5T",
        "colab_type": "code",
        "colab": {}
      },
      "source": [
        ""
      ],
      "execution_count": null,
      "outputs": []
    },
    {
      "cell_type": "code",
      "metadata": {
        "id": "F6MvWL-41HQR",
        "colab_type": "code",
        "colab": {}
      },
      "source": [
        "modelv3 = Model(base_model.input, base_model.layers[-2].output)"
      ],
      "execution_count": null,
      "outputs": []
    },
    {
      "cell_type": "code",
      "metadata": {
        "id": "BoxW1r7h2Gmz",
        "colab_type": "code",
        "colab": {}
      },
      "source": [
        "def encode(img_name):\n",
        "    img = preprocess(path_img_data + img_name)\n",
        "    encoded_img = modelv3.predict(img)\n",
        "    encoded_img = np.squeeze(encoded_img)\n",
        "    return encoded_img\n",
        "\n",
        "    \n",
        "encoded_images_dict = lambda paths: {imgpath: encode(imgpath) for imgpath in paths}\n",
        "\n",
        "encoded_train_images = encoded_images_dict(train_images)\n",
        "encoded_test_images = encoded_images_dict(test_images)  "
      ],
      "execution_count": null,
      "outputs": []
    },
    {
      "cell_type": "code",
      "metadata": {
        "id": "Yru6HT7Uem2_",
        "colab_type": "code",
        "colab": {}
      },
      "source": [
        "# train_images.index('1000268201_693b08cb0e.jpg')"
      ],
      "execution_count": null,
      "outputs": []
    },
    {
      "cell_type": "code",
      "metadata": {
        "id": "epcge6CSYWDZ",
        "colab_type": "code",
        "colab": {}
      },
      "source": [
        "show3(encoded_train_images)"
      ],
      "execution_count": null,
      "outputs": []
    },
    {
      "cell_type": "code",
      "metadata": {
        "id": "-u34aCZBYrkn",
        "colab_type": "code",
        "colab": {}
      },
      "source": [
        "train_images[0]"
      ],
      "execution_count": null,
      "outputs": []
    },
    {
      "cell_type": "code",
      "metadata": {
        "id": "GbIgStFZYrM4",
        "colab_type": "code",
        "colab": {}
      },
      "source": [
        "preprocess(path_img_data+_).shape"
      ],
      "execution_count": null,
      "outputs": []
    },
    {
      "cell_type": "code",
      "metadata": {
        "id": "_PhM4Dz36ki6",
        "colab_type": "code",
        "colab": {}
      },
      "source": [
        "import os\n",
        "\n",
        "dir_path = 'Pickle'\n",
        "if not os.path.isdir(dir_path):\n",
        "    os.mkdir(dir_path)"
      ],
      "execution_count": null,
      "outputs": []
    },
    {
      "cell_type": "code",
      "metadata": {
        "id": "5FSi_vqI2fCp",
        "colab_type": "code",
        "colab": {}
      },
      "source": [
        "def save_images_pkl(data, path):\n",
        "    path = 'Pickle/' + path\n",
        "    with open(path, 'wb') as file:\n",
        "        pickle.dump(data, file)\n",
        "\n",
        "def load_images_pkl(path): # not working\n",
        "    with open(path, 'rb') as f:\n",
        "        data = pickle.load(f)\n",
        "    return data\n",
        "\n",
        "save_images_pkl(encoded_train_images, 'encoded_train_images.pkl')\n",
        "save_images_pkl(encoded_test_images, 'encoded_test_images.pkl')"
      ],
      "execution_count": null,
      "outputs": []
    },
    {
      "cell_type": "code",
      "metadata": {
        "id": "wEzzJTbk9m1V",
        "colab_type": "code",
        "colab": {}
      },
      "source": [
        "captions = np.reshape(list(descriptions.values()), -1) # 2D descr in flattened list of captions\n",
        "len(captions)"
      ],
      "execution_count": null,
      "outputs": []
    },
    {
      "cell_type": "code",
      "metadata": {
        "id": "d68Jo6nq_T0s",
        "colab_type": "code",
        "colab": {}
      },
      "source": [
        "def show3(var):\n",
        "    return list(var)[:3]"
      ],
      "execution_count": null,
      "outputs": []
    },
    {
      "cell_type": "code",
      "metadata": {
        "id": "74hFWzWhLk2z",
        "colab_type": "code",
        "colab": {}
      },
      "source": [
        "words_count = {}\n",
        "word_count_thresh = 10\n",
        "\n",
        "for line in captions:\n",
        "    for word in line.split(' '):\n",
        "        words_count[word] = words_count.get(word, 0) + 1 # 0 if no word\n",
        "\n",
        "vocab = [w for w, count in words_count.items() if count >= word_count_thresh]        "
      ],
      "execution_count": null,
      "outputs": []
    },
    {
      "cell_type": "code",
      "metadata": {
        "id": "55XNsmtwNka0",
        "colab_type": "code",
        "colab": {}
      },
      "source": [
        "print(\"Processed words from {} -> {}\".format(len(words_count), len(vocab)))"
      ],
      "execution_count": null,
      "outputs": []
    },
    {
      "cell_type": "code",
      "metadata": {
        "id": "aig1CI3jNwfB",
        "colab_type": "code",
        "colab": {}
      },
      "source": [
        "idx2word = {}\n",
        "word2idx = {}\n",
        "\n",
        "for idx, w in enumerate(vocab, 1):\n",
        "    word2idx[w] = idx\n",
        "    idx2word[idx] = w"
      ],
      "execution_count": null,
      "outputs": []
    },
    {
      "cell_type": "code",
      "metadata": {
        "id": "eyHKer7YU-yl",
        "colab_type": "code",
        "colab": {}
      },
      "source": [
        "size_vocab = len(vocab) + 1 # for appended 0\n",
        "size_vocab"
      ],
      "execution_count": null,
      "outputs": []
    },
    {
      "cell_type": "code",
      "metadata": {
        "id": "9eHKdX_KVjsU",
        "colab_type": "code",
        "colab": {}
      },
      "source": [
        "# def create_vocab(descr): # no use\n",
        "#     vocab = set()\n",
        "\n",
        "#     for d_list in descr.values():\n",
        "#         [vocab.update(d.split()) for d in d_list]\n",
        "\n",
        "#     return vocab\n",
        "\n",
        "# vocabulary = create_vocab(descriptions)\n",
        "# list(vocabulary)[:5]"
      ],
      "execution_count": null,
      "outputs": []
    },
    {
      "cell_type": "code",
      "metadata": {
        "id": "KsX47YRgWVmp",
        "colab_type": "code",
        "colab": {}
      },
      "source": [
        "max_length_sent = max(map(lambda x: len(x.split()), captions))\n",
        "max_length_sent"
      ],
      "execution_count": null,
      "outputs": []
    },
    {
      "cell_type": "code",
      "metadata": {
        "id": "miRbnh2oWuiN",
        "colab_type": "code",
        "colab": {}
      },
      "source": [
        "def data_generator(batch_n_images, features):\n",
        "    X1, X2, y = list(), list(), list()\n",
        "    n = 0\n",
        "\n",
        "    while True:\n",
        "        for img, captions in descriptions.items():\n",
        "            img = features.get(img + '.jpg')\n",
        "            if img is None:\n",
        "                continue\n",
        "                \n",
        "            n += 1\n",
        "\n",
        "            for caption in captions: #caption is a sentence\n",
        "                encoded_words = [word2idx[w] for w in caption.split()]\n",
        "\n",
        "                for i in range(1, len(encoded_words)): #seq is sequence\n",
        "                    in_seq, out_seq = encoded_words[:i], encoded_words[i]\n",
        "                    in_seq = pad_sequences(in_seq, maxlen=max_length_sent)[0]\n",
        "                    out_seq = to_categorical(out_seq, num_classes=size_vocab)[0] #create row = num of vocab\n",
        "                    \n",
        "                    X1.append(img)\n",
        "                    X2.append(in_seq)\n",
        "                    y.append(out_seq)\n",
        "\n",
        "\n",
        "            if n == batch_n_images:\n",
        "                yield [[np.array(X1), np.array(X2)], y]                \n",
        "                X1, X2, y = list(), list(), list()\n",
        "                n = 0\n",
        "\n",
        "\n"
      ],
      "execution_count": null,
      "outputs": []
    },
    {
      "cell_type": "code",
      "metadata": {
        "id": "i26nVk2rrVk-",
        "colab_type": "code",
        "colab": {}
      },
      "source": [
        "%%capture\n",
        "#https://www.floydhub.com/mhavelant/datasets/glove6b/1/glove.6B.200d.txt\n",
        "!wget https://www.floydhub.com/api/v1/resources/Av2ThePYtAHXMAuSXEBV8X/glove.6B.200d.txt?content=true&rename=glove6b200dtxt #\n",
        "\n",
        "# kaggle https://www.kaggle.com/incorpes/glove6b200d/download"
      ],
      "execution_count": null,
      "outputs": []
    },
    {
      "cell_type": "code",
      "metadata": {
        "id": "B0uy_Ej4_NMw",
        "colab_type": "code",
        "colab": {}
      },
      "source": [
        "def loadGloveModel(path):\n",
        "    embeddings = {}\n",
        "    with open(path, encoding='utf-8') as file:\n",
        "        for line in file:\n",
        "            values = line.split()\n",
        "            word = values[0]\n",
        "            coefs = np.array(values[1:], dtype='float32')\n",
        "            embeddings[word] = coefs\n",
        "    print(len(embeddings), \" words loaded\")\n",
        "    return embeddings\n",
        "\n",
        "embeddings = loadGloveModel('/content/glove.6B.200d.txt?content=true')"
      ],
      "execution_count": null,
      "outputs": []
    },
    {
      "cell_type": "code",
      "metadata": {
        "id": "055qOyqnBuDF",
        "colab_type": "code",
        "colab": {}
      },
      "source": [
        "# embeddings['hello']"
      ],
      "execution_count": null,
      "outputs": []
    },
    {
      "cell_type": "code",
      "metadata": {
        "id": "T-wLg0RMB5EC",
        "colab_type": "code",
        "colab": {}
      },
      "source": [
        "embedding_dim = 200\n",
        "\n",
        "embeddings_matrix = np.zeros((size_vocab, embedding_dim))\n",
        "\n",
        "for idx, word in idx2word.items(): # mapping idx of word to vect of glove \n",
        "    embed_vect = embeddings.get(word)\n",
        "    if embed_vect is not None:\n",
        "        embeddings_matrix[idx] = embed_vect "
      ],
      "execution_count": null,
      "outputs": []
    },
    {
      "cell_type": "markdown",
      "metadata": {
        "id": "aknX0yqpMTaZ",
        "colab_type": "text"
      },
      "source": [
        "![image.png](data:image/png;base64,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)"
      ]
    },
    {
      "cell_type": "code",
      "metadata": {
        "id": "UfFXYByvJwRI",
        "colab_type": "code",
        "colab": {}
      },
      "source": [
        "shape_img_feature = (2048,)\n",
        "\n",
        "#partial caption sequence\n",
        "input_seq = Input(shape=(max_length_sent, ))\n",
        "seq1 = Embedding(size_vocab, embedding_dim, mask_zero=True)(input_seq)\n",
        "seq2 = Dropout(0.5)(seq1)\n",
        "seq3 = LSTM(256)(seq2)\n",
        "\n",
        "#image feature extractor\n",
        "input_fe = Input(shape=shape_img_feature)\n",
        "fe1 = Dropout(0.5)(input_fe)\n",
        "fe2 = Dense(256, activation='relu')(fe1)\n",
        "\n",
        "#decoding\n",
        "decoder1 = add([fe2, seq3])\n",
        "decoder2 = Dense(256, activation='relu')(decoder1)\n",
        "output = Dense(size_vocab, activation='softmax')(decoder2)\n",
        "\n",
        "model = Model(inputs=[input_fe, input_seq], outputs=output)"
      ],
      "execution_count": null,
      "outputs": []
    },
    {
      "cell_type": "code",
      "metadata": {
        "id": "pSxqtll7O9n8",
        "colab_type": "code",
        "colab": {}
      },
      "source": [
        "model.summary()\n",
        "\n",
        "model.layers[2]\n",
        "model.layers[2].set_weights([embeddings_matrix])\n",
        "model.layers[2].trainable = False\n",
        "model.compile(loss='categorical_crossentropy', optimizer='adam')"
      ],
      "execution_count": null,
      "outputs": []
    },
    {
      "cell_type": "code",
      "metadata": {
        "id": "6K-BsAfBPFM7",
        "colab_type": "code",
        "colab": {}
      },
      "source": [
        ""
      ],
      "execution_count": null,
      "outputs": []
    },
    {
      "cell_type": "code",
      "metadata": {
        "id": "vK_B_zUASoa1",
        "colab_type": "code",
        "colab": {}
      },
      "source": [
        "epochs = 5\n",
        "batch_n_images = 5\n",
        "steps = len(descriptions) // batch_n_images"
      ],
      "execution_count": null,
      "outputs": []
    },
    {
      "cell_type": "code",
      "metadata": {
        "id": "l8hGXExMfrrf",
        "colab_type": "code",
        "colab": {}
      },
      "source": [
        "def data_generator(batch_n_images, features):\n",
        "    X1, X2, y = list(), list(), list()\n",
        "    n = 0\n",
        "\n",
        "    while True:\n",
        "        for img, captions in descriptions.items():\n",
        "            img = features.get(img + '.jpg')\n",
        "            if img is None:\n",
        "                continue\n",
        "                \n",
        "            n += 1\n",
        "\n",
        "            for caption in captions: #caption is a sentence\n",
        "                encoded_words = [word2idx[w] for w in caption.split() if w in word2idx]\n",
        "\n",
        "                for i in range(1, len(encoded_words)): #seq is sequence\n",
        "                    in_seq, out_seq = encoded_words[:i], encoded_words[i]\n",
        "                    in_seq = pad_sequences([in_seq], maxlen=max_length_sent)[0]\n",
        "                    out_seq = to_categorical([out_seq], num_classes=size_vocab)[0] #create row = num of vocab\n",
        "                    \n",
        "                    X1.append(img)\n",
        "                    X2.append(in_seq)\n",
        "                    y.append(out_seq)\n",
        "\n",
        "\n",
        "            if n == batch_n_images:\n",
        "                yield [[np.array(X1), np.array(X2)], np.array(y)]                \n",
        "                X1, X2, y = list(), list(), list()\n",
        "                n = 0"
      ],
      "execution_count": null,
      "outputs": []
    },
    {
      "cell_type": "code",
      "metadata": {
        "id": "efSfBJjiy-yw",
        "colab_type": "code",
        "colab": {}
      },
      "source": [
        "\n",
        "model.fit(data_generator(batch_n_images, encoded_train_images),\n",
        "          steps_per_epoch=steps,\n",
        "          epochs=epochs,\n",
        "          verbose=1)"
      ],
      "execution_count": null,
      "outputs": []
    },
    {
      "cell_type": "code",
      "metadata": {
        "id": "39ioQ0T2TiAk",
        "colab_type": "code",
        "colab": {}
      },
      "source": [
        ""
      ],
      "execution_count": null,
      "outputs": []
    },
    {
      "cell_type": "code",
      "metadata": {
        "id": "omIT6nd1W6aK",
        "colab_type": "code",
        "colab": {}
      },
      "source": [
        ""
      ],
      "execution_count": null,
      "outputs": []
    }
  ]
}